{
 "cells": [
  {
   "cell_type": "code",
   "execution_count": 3,
   "metadata": {},
   "outputs": [
    {
     "name": "stdout",
     "output_type": "stream",
     "text": [
      "mathematics  80\n",
      "science      80\n",
      "urdu         70\n",
      "english      70\n",
      "history      70\n",
      "370\n",
      "74.0\n",
      "got A \n"
     ]
    }
   ],
   "source": [
    "n1 = int(input(\"mathematics  \"))\n",
    "n2 = int(input(\"science      \"))\n",
    "n3 = int(input(\"urdu         \"))\n",
    "n4 = int(input(\"english      \"))\n",
    "n5 = int(input(\"history      \"))\n",
    "sum = n1 + n2 + n3 + n4 +n5\n",
    "print (sum)\n",
    "per = sum/ 500 *100\n",
    "print (per)\n",
    "if per > 80 and per < 100:\n",
    " print(\"got A-1\")\n",
    "elif per > 70 and per < 80:\n",
    " print (\"got A \")\n",
    "elif per > 60 and per < 70:\n",
    " print (\"got B\")\n",
    "else :\n",
    " print (\"wrong information\")\n",
    "\n"
   ]
  },
  {
   "cell_type": "code",
   "execution_count": 6,
   "metadata": {},
   "outputs": [
    {
     "name": "stdout",
     "output_type": "stream",
     "text": [
      "enter number251\n",
      "251\n",
      "given number is odd\n"
     ]
    }
   ],
   "source": [
    "num = int(input(\"enter number\"))\n",
    "print (num)\n",
    "if num% 2 == 0:\n",
    "    print (\"given number is even\")\n",
    "else:\n",
    "    print (\"given number is odd\")"
   ]
  },
  {
   "cell_type": "code",
   "execution_count": null,
   "metadata": {},
   "outputs": [],
   "source": [
    "city = [1,2,3,4]\n",
    "print len(city)"
   ]
  },
  {
   "cell_type": "code",
   "execution_count": null,
   "metadata": {},
   "outputs": [],
   "source": [
    "l1 = [1,2,3,4,5]\n",
    "sum = int(l1[0]) + int (l1[1]) + int(l1[2]) + int(l1[3]) + int(l1[4])\n",
    "print (sum)"
   ]
  },
  {
   "cell_type": "code",
   "execution_count": null,
   "metadata": {},
   "outputs": [],
   "source": [
    "list2 = [1,2,3,4,5,6]\n",
    "list2.sort ()\n",
    "print (list2)"
   ]
  },
  {
   "cell_type": "code",
   "execution_count": null,
   "metadata": {},
   "outputs": [],
   "source": [
    "a = [1,1,2,3,5,8,13,21,34,55]\n",
    "x = [i for i in a if i <5]\n",
    "print (x)"
   ]
  }
 ],
 "metadata": {
  "kernelspec": {
   "display_name": "Python 3",
   "language": "python",
   "name": "python3"
  },
  "language_info": {
   "codemirror_mode": {
    "name": "ipython",
    "version": 3
   },
   "file_extension": ".py",
   "mimetype": "text/x-python",
   "name": "python",
   "nbconvert_exporter": "python",
   "pygments_lexer": "ipython3",
   "version": "3.7.3"
  }
 },
 "nbformat": 4,
 "nbformat_minor": 2
}
